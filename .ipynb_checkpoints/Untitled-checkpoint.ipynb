{
 "cells": [
  {
   "cell_type": "code",
   "execution_count": 2,
   "id": "8515ddf1",
   "metadata": {},
   "outputs": [
    {
     "ename": "SyntaxError",
     "evalue": "invalid syntax (Temp/ipykernel_9224/1426655057.py, line 6)",
     "output_type": "error",
     "traceback": [
      "\u001b[1;36m  File \u001b[1;32m\"C:\\Users\\OLEHHR~1\\AppData\\Local\\Temp/ipykernel_9224/1426655057.py\"\u001b[1;36m, line \u001b[1;32m6\u001b[0m\n\u001b[1;33m    if __name__ = \"__main__\":\u001b[0m\n\u001b[1;37m                ^\u001b[0m\n\u001b[1;31mSyntaxError\u001b[0m\u001b[1;31m:\u001b[0m invalid syntax\n"
     ]
    }
   ],
   "source": [
    "import requests\n",
    "\n",
    "def get_location_info():\n",
    "    return requests.get(\"http://freegeoip.net/json/\").json()\n",
    "    \n",
    "if __name__ = \"__main__\":\n",
    "pprint(get_location_info())\n"
   ]
  },
  {
   "cell_type": "code",
   "execution_count": null,
   "id": "5beeb563",
   "metadata": {},
   "outputs": [],
   "source": []
  },
  {
   "cell_type": "code",
   "execution_count": null,
   "id": "1e9001f8",
   "metadata": {},
   "outputs": [],
   "source": []
  },
  {
   "cell_type": "code",
   "execution_count": 4,
   "id": "ec278bdd",
   "metadata": {},
   "outputs": [
    {
     "ename": "IndentationError",
     "evalue": "expected an indented block (Temp/ipykernel_9224/1472238032.py, line 7)",
     "output_type": "error",
     "traceback": [
      "\u001b[1;36m  File \u001b[1;32m\"C:\\Users\\OLEHHR~1\\AppData\\Local\\Temp/ipykernel_9224/1472238032.py\"\u001b[1;36m, line \u001b[1;32m7\u001b[0m\n\u001b[1;33m    pprint(get_location_info())\u001b[0m\n\u001b[1;37m    ^\u001b[0m\n\u001b[1;31mIndentationError\u001b[0m\u001b[1;31m:\u001b[0m expected an indented block\n"
     ]
    }
   ],
   "source": [
    "import requests\n",
    "\n",
    "def get_location_info():\n",
    "    return requests.get(\"http://freegeoip.net/json/\").json()\n",
    "    \n",
    "if __name__ == \"__main__\":\n",
    "    pprint(get_location_info())"
   ]
  },
  {
   "cell_type": "code",
   "execution_count": null,
   "id": "b12aa51e",
   "metadata": {},
   "outputs": [],
   "source": []
  }
 ],
 "metadata": {
  "kernelspec": {
   "display_name": "Python 3 (ipykernel)",
   "language": "python",
   "name": "python3"
  },
  "language_info": {
   "codemirror_mode": {
    "name": "ipython",
    "version": 3
   },
   "file_extension": ".py",
   "mimetype": "text/x-python",
   "name": "python",
   "nbconvert_exporter": "python",
   "pygments_lexer": "ipython3",
   "version": "3.9.6"
  }
 },
 "nbformat": 4,
 "nbformat_minor": 5
}
